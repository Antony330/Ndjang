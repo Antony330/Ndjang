{
 "cells": [
  {
   "cell_type": "code",
   "execution_count": 55,
   "metadata": {},
   "outputs": [],
   "source": [
    "import numpy as np\n",
    "import pandas as pd\n",
    "import matplotlib.pyplot as plt\n",
    "import seaborn as sns\n",
    "import statsmodels.api as sm\n",
    "from sklearn.model_selection import train_test_split\n",
    "from sklearn.linear_model import LinearRegression\n",
    "from sklearn.feature_selection import RFE\n",
    "from sklearn.linear_model import RidgeCV, LassoCV, Ridge, Lasso\n",
    "\n"
   ]
  },
  {
   "cell_type": "code",
   "execution_count": 42,
   "metadata": {},
   "outputs": [],
   "source": [
    "data = pd.read_csv(\"Survey Final Project V2.csv\")"
   ]
  },
  {
   "cell_type": "code",
   "execution_count": null,
   "metadata": {},
   "outputs": [],
   "source": []
  },
  {
   "cell_type": "code",
   "execution_count": 4,
   "metadata": {
    "scrolled": false
   },
   "outputs": [
    {
     "data": {
      "text/html": [
       "<div>\n",
       "<style scoped>\n",
       "    .dataframe tbody tr th:only-of-type {\n",
       "        vertical-align: middle;\n",
       "    }\n",
       "\n",
       "    .dataframe tbody tr th {\n",
       "        vertical-align: top;\n",
       "    }\n",
       "\n",
       "    .dataframe thead th {\n",
       "        text-align: right;\n",
       "    }\n",
       "</style>\n",
       "<table border=\"1\" class=\"dataframe\">\n",
       "  <thead>\n",
       "    <tr style=\"text-align: right;\">\n",
       "      <th></th>\n",
       "      <th>Sample Name</th>\n",
       "      <th>Household connected to the national grid?</th>\n",
       "      <th>have got an electric/pre-paid meter?</th>\n",
       "      <th>Monthly Electyricity Bill(Dollars)</th>\n",
       "      <th>Monthly Electricity Consumption(KWh)</th>\n",
       "      <th>Is the quality of electricity service the same all year?</th>\n",
       "      <th>Hours of electricity availability (in 24 hours)</th>\n",
       "      <th>Hours of electricity availability (During Evening)</th>\n",
       "      <th>No of Disruptions per week</th>\n",
       "      <th>Avg time of disruption( in minutes)</th>\n",
       "      <th>...</th>\n",
       "      <th>Any Past accidents</th>\n",
       "      <th>Any Future Threats</th>\n",
       "      <th>Tier wrt Capacity</th>\n",
       "      <th>Tier wrt Availability</th>\n",
       "      <th>Tier wrt  Reliability</th>\n",
       "      <th>Tier wrt Quality</th>\n",
       "      <th>Tier wrt Affordability</th>\n",
       "      <th>Tier wrt Legality</th>\n",
       "      <th>Tier wrt Health &amp; Safety</th>\n",
       "      <th>FINAL TIER</th>\n",
       "    </tr>\n",
       "  </thead>\n",
       "  <tbody>\n",
       "    <tr>\n",
       "      <th>0</th>\n",
       "      <td>Osvaldo Mcgary</td>\n",
       "      <td>0</td>\n",
       "      <td>0</td>\n",
       "      <td>0.0</td>\n",
       "      <td>0.000000</td>\n",
       "      <td>1.0</td>\n",
       "      <td>22</td>\n",
       "      <td>5</td>\n",
       "      <td>7</td>\n",
       "      <td>23</td>\n",
       "      <td>...</td>\n",
       "      <td>0</td>\n",
       "      <td>0</td>\n",
       "      <td>0</td>\n",
       "      <td>4</td>\n",
       "      <td>4</td>\n",
       "      <td>5</td>\n",
       "      <td>2</td>\n",
       "      <td>3</td>\n",
       "      <td>5</td>\n",
       "      <td>0</td>\n",
       "    </tr>\n",
       "    <tr>\n",
       "      <th>1</th>\n",
       "      <td>Carola Claudio</td>\n",
       "      <td>0</td>\n",
       "      <td>0</td>\n",
       "      <td>40.0</td>\n",
       "      <td>133.333333</td>\n",
       "      <td>1.0</td>\n",
       "      <td>20</td>\n",
       "      <td>1</td>\n",
       "      <td>29</td>\n",
       "      <td>17</td>\n",
       "      <td>...</td>\n",
       "      <td>0</td>\n",
       "      <td>0</td>\n",
       "      <td>5</td>\n",
       "      <td>1</td>\n",
       "      <td>3</td>\n",
       "      <td>5</td>\n",
       "      <td>5</td>\n",
       "      <td>3</td>\n",
       "      <td>5</td>\n",
       "      <td>1</td>\n",
       "    </tr>\n",
       "    <tr>\n",
       "      <th>2</th>\n",
       "      <td>Britteny Gregg</td>\n",
       "      <td>0</td>\n",
       "      <td>0</td>\n",
       "      <td>0.0</td>\n",
       "      <td>0.000000</td>\n",
       "      <td>0.0</td>\n",
       "      <td>19</td>\n",
       "      <td>4</td>\n",
       "      <td>13</td>\n",
       "      <td>23</td>\n",
       "      <td>...</td>\n",
       "      <td>0</td>\n",
       "      <td>1</td>\n",
       "      <td>0</td>\n",
       "      <td>4</td>\n",
       "      <td>4</td>\n",
       "      <td>5</td>\n",
       "      <td>2</td>\n",
       "      <td>3</td>\n",
       "      <td>3</td>\n",
       "      <td>0</td>\n",
       "    </tr>\n",
       "    <tr>\n",
       "      <th>3</th>\n",
       "      <td>Twila Tancredi</td>\n",
       "      <td>0</td>\n",
       "      <td>0</td>\n",
       "      <td>0.0</td>\n",
       "      <td>0.000000</td>\n",
       "      <td>1.0</td>\n",
       "      <td>12</td>\n",
       "      <td>7</td>\n",
       "      <td>28</td>\n",
       "      <td>16</td>\n",
       "      <td>...</td>\n",
       "      <td>0</td>\n",
       "      <td>1</td>\n",
       "      <td>0</td>\n",
       "      <td>3</td>\n",
       "      <td>3</td>\n",
       "      <td>5</td>\n",
       "      <td>2</td>\n",
       "      <td>3</td>\n",
       "      <td>3</td>\n",
       "      <td>0</td>\n",
       "    </tr>\n",
       "    <tr>\n",
       "      <th>4</th>\n",
       "      <td>Kasey Ryans</td>\n",
       "      <td>1</td>\n",
       "      <td>1</td>\n",
       "      <td>57.0</td>\n",
       "      <td>190.000000</td>\n",
       "      <td>1.0</td>\n",
       "      <td>5</td>\n",
       "      <td>7</td>\n",
       "      <td>23</td>\n",
       "      <td>16</td>\n",
       "      <td>...</td>\n",
       "      <td>0</td>\n",
       "      <td>0</td>\n",
       "      <td>5</td>\n",
       "      <td>2</td>\n",
       "      <td>3</td>\n",
       "      <td>3</td>\n",
       "      <td>5</td>\n",
       "      <td>5</td>\n",
       "      <td>5</td>\n",
       "      <td>2</td>\n",
       "    </tr>\n",
       "  </tbody>\n",
       "</table>\n",
       "<p>5 rows × 26 columns</p>\n",
       "</div>"
      ],
      "text/plain": [
       "      Sample Name  Household connected to the national grid?  \\\n",
       "0  Osvaldo Mcgary                                          0   \n",
       "1  Carola Claudio                                          0   \n",
       "2  Britteny Gregg                                          0   \n",
       "3  Twila Tancredi                                          0   \n",
       "4     Kasey Ryans                                          1   \n",
       "\n",
       "   have got an electric/pre-paid meter?  Monthly Electyricity Bill(Dollars)  \\\n",
       "0                                     0                                 0.0   \n",
       "1                                     0                                40.0   \n",
       "2                                     0                                 0.0   \n",
       "3                                     0                                 0.0   \n",
       "4                                     1                                57.0   \n",
       "\n",
       "   Monthly Electricity Consumption(KWh)  \\\n",
       "0                              0.000000   \n",
       "1                            133.333333   \n",
       "2                              0.000000   \n",
       "3                              0.000000   \n",
       "4                            190.000000   \n",
       "\n",
       "   Is the quality of electricity service the same all year?  \\\n",
       "0                                                1.0          \n",
       "1                                                1.0          \n",
       "2                                                0.0          \n",
       "3                                                1.0          \n",
       "4                                                1.0          \n",
       "\n",
       "   Hours of electricity availability (in 24 hours)  \\\n",
       "0                                               22   \n",
       "1                                               20   \n",
       "2                                               19   \n",
       "3                                               12   \n",
       "4                                                5   \n",
       "\n",
       "   Hours of electricity availability (During Evening)  \\\n",
       "0                                                  5    \n",
       "1                                                  1    \n",
       "2                                                  4    \n",
       "3                                                  7    \n",
       "4                                                  7    \n",
       "\n",
       "   No of Disruptions per week  Avg time of disruption( in minutes)  ...  \\\n",
       "0                           7                                   23  ...   \n",
       "1                          29                                   17  ...   \n",
       "2                          13                                   23  ...   \n",
       "3                          28                                   16  ...   \n",
       "4                          23                                   16  ...   \n",
       "\n",
       "   Any Past accidents  Any Future Threats  Tier wrt Capacity  \\\n",
       "0                   0                   0                  0   \n",
       "1                   0                   0                  5   \n",
       "2                   0                   1                  0   \n",
       "3                   0                   1                  0   \n",
       "4                   0                   0                  5   \n",
       "\n",
       "   Tier wrt Availability  Tier wrt  Reliability  Tier wrt Quality  \\\n",
       "0                      4                      4                 5   \n",
       "1                      1                      3                 5   \n",
       "2                      4                      4                 5   \n",
       "3                      3                      3                 5   \n",
       "4                      2                      3                 3   \n",
       "\n",
       "   Tier wrt Affordability  Tier wrt Legality  Tier wrt Health & Safety  \\\n",
       "0                       2                  3                         5   \n",
       "1                       5                  3                         5   \n",
       "2                       2                  3                         3   \n",
       "3                       2                  3                         3   \n",
       "4                       5                  5                         5   \n",
       "\n",
       "   FINAL TIER  \n",
       "0           0  \n",
       "1           1  \n",
       "2           0  \n",
       "3           0  \n",
       "4           2  \n",
       "\n",
       "[5 rows x 26 columns]"
      ]
     },
     "execution_count": 4,
     "metadata": {},
     "output_type": "execute_result"
    }
   ],
   "source": [
    "data.head()"
   ]
  },
  {
   "cell_type": "code",
   "execution_count": 9,
   "metadata": {},
   "outputs": [
    {
     "data": {
      "text/html": [
       "<div>\n",
       "<style scoped>\n",
       "    .dataframe tbody tr th:only-of-type {\n",
       "        vertical-align: middle;\n",
       "    }\n",
       "\n",
       "    .dataframe tbody tr th {\n",
       "        vertical-align: top;\n",
       "    }\n",
       "\n",
       "    .dataframe thead th {\n",
       "        text-align: right;\n",
       "    }\n",
       "</style>\n",
       "<table border=\"1\" class=\"dataframe\">\n",
       "  <thead>\n",
       "    <tr style=\"text-align: right;\">\n",
       "      <th></th>\n",
       "      <th>Household connected to the national grid?</th>\n",
       "      <th>have got an electric/pre-paid meter?</th>\n",
       "      <th>Monthly Electyricity Bill(Dollars)</th>\n",
       "      <th>Monthly Electricity Consumption(KWh)</th>\n",
       "      <th>Is the quality of electricity service the same all year?</th>\n",
       "      <th>Hours of electricity availability (in 24 hours)</th>\n",
       "      <th>Hours of electricity availability (During Evening)</th>\n",
       "      <th>No of Disruptions per week</th>\n",
       "      <th>Avg time of disruption( in minutes)</th>\n",
       "      <th>Have Voltage Fluctions?</th>\n",
       "      <th>...</th>\n",
       "      <th>Any Past accidents</th>\n",
       "      <th>Any Future Threats</th>\n",
       "      <th>Tier wrt Capacity</th>\n",
       "      <th>Tier wrt Availability</th>\n",
       "      <th>Tier wrt  Reliability</th>\n",
       "      <th>Tier wrt Quality</th>\n",
       "      <th>Tier wrt Affordability</th>\n",
       "      <th>Tier wrt Legality</th>\n",
       "      <th>Tier wrt Health &amp; Safety</th>\n",
       "      <th>FINAL TIER</th>\n",
       "    </tr>\n",
       "  </thead>\n",
       "  <tbody>\n",
       "    <tr>\n",
       "      <th>count</th>\n",
       "      <td>400.000000</td>\n",
       "      <td>400.00000</td>\n",
       "      <td>400.000000</td>\n",
       "      <td>400.000000</td>\n",
       "      <td>40.000000</td>\n",
       "      <td>400.000000</td>\n",
       "      <td>400.000000</td>\n",
       "      <td>400.00000</td>\n",
       "      <td>400.00000</td>\n",
       "      <td>400.000000</td>\n",
       "      <td>...</td>\n",
       "      <td>400.000000</td>\n",
       "      <td>400.000000</td>\n",
       "      <td>400.000000</td>\n",
       "      <td>400.000000</td>\n",
       "      <td>400.000000</td>\n",
       "      <td>400.000000</td>\n",
       "      <td>400.00000</td>\n",
       "      <td>400.000000</td>\n",
       "      <td>400.000000</td>\n",
       "      <td>400.000000</td>\n",
       "    </tr>\n",
       "    <tr>\n",
       "      <th>mean</th>\n",
       "      <td>0.527500</td>\n",
       "      <td>0.77000</td>\n",
       "      <td>53.471500</td>\n",
       "      <td>178.238333</td>\n",
       "      <td>0.600000</td>\n",
       "      <td>12.440000</td>\n",
       "      <td>3.632500</td>\n",
       "      <td>15.27750</td>\n",
       "      <td>19.51000</td>\n",
       "      <td>0.352500</td>\n",
       "      <td>...</td>\n",
       "      <td>0.257500</td>\n",
       "      <td>0.452500</td>\n",
       "      <td>3.337500</td>\n",
       "      <td>2.130000</td>\n",
       "      <td>3.537500</td>\n",
       "      <td>4.295000</td>\n",
       "      <td>3.78500</td>\n",
       "      <td>4.055000</td>\n",
       "      <td>3.815000</td>\n",
       "      <td>1.297500</td>\n",
       "    </tr>\n",
       "    <tr>\n",
       "      <th>std</th>\n",
       "      <td>0.499868</td>\n",
       "      <td>0.42136</td>\n",
       "      <td>66.268797</td>\n",
       "      <td>220.895990</td>\n",
       "      <td>0.496139</td>\n",
       "      <td>7.290355</td>\n",
       "      <td>2.372027</td>\n",
       "      <td>8.45839</td>\n",
       "      <td>6.81697</td>\n",
       "      <td>0.478347</td>\n",
       "      <td>...</td>\n",
       "      <td>0.437805</td>\n",
       "      <td>0.498362</td>\n",
       "      <td>2.083133</td>\n",
       "      <td>1.571392</td>\n",
       "      <td>0.636086</td>\n",
       "      <td>0.956694</td>\n",
       "      <td>1.47452</td>\n",
       "      <td>0.999737</td>\n",
       "      <td>0.983969</td>\n",
       "      <td>1.244132</td>\n",
       "    </tr>\n",
       "    <tr>\n",
       "      <th>min</th>\n",
       "      <td>0.000000</td>\n",
       "      <td>0.00000</td>\n",
       "      <td>0.000000</td>\n",
       "      <td>0.000000</td>\n",
       "      <td>0.000000</td>\n",
       "      <td>0.000000</td>\n",
       "      <td>0.000000</td>\n",
       "      <td>0.00000</td>\n",
       "      <td>0.00000</td>\n",
       "      <td>0.000000</td>\n",
       "      <td>...</td>\n",
       "      <td>0.000000</td>\n",
       "      <td>0.000000</td>\n",
       "      <td>0.000000</td>\n",
       "      <td>0.000000</td>\n",
       "      <td>3.000000</td>\n",
       "      <td>3.000000</td>\n",
       "      <td>2.00000</td>\n",
       "      <td>3.000000</td>\n",
       "      <td>3.000000</td>\n",
       "      <td>0.000000</td>\n",
       "    </tr>\n",
       "    <tr>\n",
       "      <th>25%</th>\n",
       "      <td>0.000000</td>\n",
       "      <td>1.00000</td>\n",
       "      <td>0.150000</td>\n",
       "      <td>0.500000</td>\n",
       "      <td>0.000000</td>\n",
       "      <td>6.000000</td>\n",
       "      <td>2.000000</td>\n",
       "      <td>8.00000</td>\n",
       "      <td>14.00000</td>\n",
       "      <td>0.000000</td>\n",
       "      <td>...</td>\n",
       "      <td>0.000000</td>\n",
       "      <td>0.000000</td>\n",
       "      <td>0.750000</td>\n",
       "      <td>0.000000</td>\n",
       "      <td>3.000000</td>\n",
       "      <td>3.000000</td>\n",
       "      <td>2.00000</td>\n",
       "      <td>3.000000</td>\n",
       "      <td>3.000000</td>\n",
       "      <td>0.000000</td>\n",
       "    </tr>\n",
       "    <tr>\n",
       "      <th>50%</th>\n",
       "      <td>1.000000</td>\n",
       "      <td>1.00000</td>\n",
       "      <td>29.700000</td>\n",
       "      <td>99.000000</td>\n",
       "      <td>1.000000</td>\n",
       "      <td>13.000000</td>\n",
       "      <td>4.000000</td>\n",
       "      <td>15.00000</td>\n",
       "      <td>20.00000</td>\n",
       "      <td>0.000000</td>\n",
       "      <td>...</td>\n",
       "      <td>0.000000</td>\n",
       "      <td>0.000000</td>\n",
       "      <td>4.500000</td>\n",
       "      <td>2.000000</td>\n",
       "      <td>3.000000</td>\n",
       "      <td>5.000000</td>\n",
       "      <td>5.00000</td>\n",
       "      <td>5.000000</td>\n",
       "      <td>3.000000</td>\n",
       "      <td>2.000000</td>\n",
       "    </tr>\n",
       "    <tr>\n",
       "      <th>75%</th>\n",
       "      <td>1.000000</td>\n",
       "      <td>1.00000</td>\n",
       "      <td>88.275000</td>\n",
       "      <td>294.250000</td>\n",
       "      <td>1.000000</td>\n",
       "      <td>19.000000</td>\n",
       "      <td>6.000000</td>\n",
       "      <td>23.00000</td>\n",
       "      <td>25.00000</td>\n",
       "      <td>1.000000</td>\n",
       "      <td>...</td>\n",
       "      <td>1.000000</td>\n",
       "      <td>1.000000</td>\n",
       "      <td>5.000000</td>\n",
       "      <td>3.000000</td>\n",
       "      <td>4.000000</td>\n",
       "      <td>5.000000</td>\n",
       "      <td>5.00000</td>\n",
       "      <td>5.000000</td>\n",
       "      <td>5.000000</td>\n",
       "      <td>2.000000</td>\n",
       "    </tr>\n",
       "    <tr>\n",
       "      <th>max</th>\n",
       "      <td>1.000000</td>\n",
       "      <td>1.00000</td>\n",
       "      <td>392.000000</td>\n",
       "      <td>1306.666667</td>\n",
       "      <td>1.000000</td>\n",
       "      <td>24.000000</td>\n",
       "      <td>7.000000</td>\n",
       "      <td>30.00000</td>\n",
       "      <td>30.00000</td>\n",
       "      <td>1.000000</td>\n",
       "      <td>...</td>\n",
       "      <td>1.000000</td>\n",
       "      <td>1.000000</td>\n",
       "      <td>5.000000</td>\n",
       "      <td>5.000000</td>\n",
       "      <td>5.000000</td>\n",
       "      <td>5.000000</td>\n",
       "      <td>5.00000</td>\n",
       "      <td>5.000000</td>\n",
       "      <td>5.000000</td>\n",
       "      <td>4.000000</td>\n",
       "    </tr>\n",
       "  </tbody>\n",
       "</table>\n",
       "<p>8 rows × 25 columns</p>\n",
       "</div>"
      ],
      "text/plain": [
       "       Household connected to the national grid?  \\\n",
       "count                                 400.000000   \n",
       "mean                                    0.527500   \n",
       "std                                     0.499868   \n",
       "min                                     0.000000   \n",
       "25%                                     0.000000   \n",
       "50%                                     1.000000   \n",
       "75%                                     1.000000   \n",
       "max                                     1.000000   \n",
       "\n",
       "       have got an electric/pre-paid meter?  \\\n",
       "count                             400.00000   \n",
       "mean                                0.77000   \n",
       "std                                 0.42136   \n",
       "min                                 0.00000   \n",
       "25%                                 1.00000   \n",
       "50%                                 1.00000   \n",
       "75%                                 1.00000   \n",
       "max                                 1.00000   \n",
       "\n",
       "       Monthly Electyricity Bill(Dollars)  \\\n",
       "count                          400.000000   \n",
       "mean                            53.471500   \n",
       "std                             66.268797   \n",
       "min                              0.000000   \n",
       "25%                              0.150000   \n",
       "50%                             29.700000   \n",
       "75%                             88.275000   \n",
       "max                            392.000000   \n",
       "\n",
       "       Monthly Electricity Consumption(KWh)  \\\n",
       "count                            400.000000   \n",
       "mean                             178.238333   \n",
       "std                              220.895990   \n",
       "min                                0.000000   \n",
       "25%                                0.500000   \n",
       "50%                               99.000000   \n",
       "75%                              294.250000   \n",
       "max                             1306.666667   \n",
       "\n",
       "       Is the quality of electricity service the same all year?  \\\n",
       "count                                          40.000000          \n",
       "mean                                            0.600000          \n",
       "std                                             0.496139          \n",
       "min                                             0.000000          \n",
       "25%                                             0.000000          \n",
       "50%                                             1.000000          \n",
       "75%                                             1.000000          \n",
       "max                                             1.000000          \n",
       "\n",
       "       Hours of electricity availability (in 24 hours)  \\\n",
       "count                                       400.000000   \n",
       "mean                                         12.440000   \n",
       "std                                           7.290355   \n",
       "min                                           0.000000   \n",
       "25%                                           6.000000   \n",
       "50%                                          13.000000   \n",
       "75%                                          19.000000   \n",
       "max                                          24.000000   \n",
       "\n",
       "       Hours of electricity availability (During Evening)  \\\n",
       "count                                         400.000000    \n",
       "mean                                            3.632500    \n",
       "std                                             2.372027    \n",
       "min                                             0.000000    \n",
       "25%                                             2.000000    \n",
       "50%                                             4.000000    \n",
       "75%                                             6.000000    \n",
       "max                                             7.000000    \n",
       "\n",
       "       No of Disruptions per week  Avg time of disruption( in minutes)  \\\n",
       "count                   400.00000                            400.00000   \n",
       "mean                     15.27750                             19.51000   \n",
       "std                       8.45839                              6.81697   \n",
       "min                       0.00000                              0.00000   \n",
       "25%                       8.00000                             14.00000   \n",
       "50%                      15.00000                             20.00000   \n",
       "75%                      23.00000                             25.00000   \n",
       "max                      30.00000                             30.00000   \n",
       "\n",
       "       Have Voltage Fluctions?  ...  Any Past accidents  Any Future Threats  \\\n",
       "count               400.000000  ...          400.000000          400.000000   \n",
       "mean                  0.352500  ...            0.257500            0.452500   \n",
       "std                   0.478347  ...            0.437805            0.498362   \n",
       "min                   0.000000  ...            0.000000            0.000000   \n",
       "25%                   0.000000  ...            0.000000            0.000000   \n",
       "50%                   0.000000  ...            0.000000            0.000000   \n",
       "75%                   1.000000  ...            1.000000            1.000000   \n",
       "max                   1.000000  ...            1.000000            1.000000   \n",
       "\n",
       "       Tier wrt Capacity  Tier wrt Availability  Tier wrt  Reliability  \\\n",
       "count         400.000000             400.000000             400.000000   \n",
       "mean            3.337500               2.130000               3.537500   \n",
       "std             2.083133               1.571392               0.636086   \n",
       "min             0.000000               0.000000               3.000000   \n",
       "25%             0.750000               0.000000               3.000000   \n",
       "50%             4.500000               2.000000               3.000000   \n",
       "75%             5.000000               3.000000               4.000000   \n",
       "max             5.000000               5.000000               5.000000   \n",
       "\n",
       "       Tier wrt Quality  Tier wrt Affordability  Tier wrt Legality  \\\n",
       "count        400.000000               400.00000         400.000000   \n",
       "mean           4.295000                 3.78500           4.055000   \n",
       "std            0.956694                 1.47452           0.999737   \n",
       "min            3.000000                 2.00000           3.000000   \n",
       "25%            3.000000                 2.00000           3.000000   \n",
       "50%            5.000000                 5.00000           5.000000   \n",
       "75%            5.000000                 5.00000           5.000000   \n",
       "max            5.000000                 5.00000           5.000000   \n",
       "\n",
       "       Tier wrt Health & Safety  FINAL TIER  \n",
       "count                400.000000  400.000000  \n",
       "mean                   3.815000    1.297500  \n",
       "std                    0.983969    1.244132  \n",
       "min                    3.000000    0.000000  \n",
       "25%                    3.000000    0.000000  \n",
       "50%                    3.000000    2.000000  \n",
       "75%                    5.000000    2.000000  \n",
       "max                    5.000000    4.000000  \n",
       "\n",
       "[8 rows x 25 columns]"
      ]
     },
     "execution_count": 9,
     "metadata": {},
     "output_type": "execute_result"
    }
   ],
   "source": [
    "data.describe()"
   ]
  },
  {
   "cell_type": "markdown",
   "metadata": {},
   "source": [
    "Scatter Diagrams"
   ]
  },
  {
   "cell_type": "code",
   "execution_count": 5,
   "metadata": {},
   "outputs": [
    {
     "data": {
      "image/png": "[encoded data removed]",
      "text/plain": [
       "<Figure size 432x288 with 1 Axes>"
      ]
     },
     "metadata": {
      "needs_background": "light"
     },
     "output_type": "display_data"
    }
   ],
   "source": [
    "ax1 = data.plot.scatter(x='Household connected to the national grid?',\n",
    "                      y='have got an electric/pre-paid meter?',\n",
    "                      c='DarkBlue')"
   ]
  },
  {
   "cell_type": "code",
   "execution_count": null,
   "metadata": {},
   "outputs": [],
   "source": []
  },
  {
   "cell_type": "markdown",
   "metadata": {},
   "source": [
    "Here the Chart shows that all the Household Connected to the national grid(x axis value=1) has got ab electricity meter, whereas the households that are not connected to the national grid may or may not have an electricity meter. "
   ]
  },
  {
   "cell_type": "code",
   "execution_count": 6,
   "metadata": {},
   "outputs": [
    {
     "data": {
      "image/png": "[encoded data removed]",
      "text/plain": [
       "<Figure size 432x288 with 1 Axes>"
      ]
     },
     "metadata": {
      "needs_background": "light"
     },
     "output_type": "display_data"
    }
   ],
   "source": [
    "ax1 = data.plot.scatter(x='Household connected to the national grid?',\n",
    "                      y='Monthly Electyricity Bill(Dollars)',\n",
    "                      c='DarkBlue')"
   ]
  },
  {
   "cell_type": "markdown",
   "metadata": {},
   "source": [
    "The chart shows that households that are connected to the national grid(x axis value=1) pays less electriciy bill whereas households not connected to the national grid pays more. From this we can conclude that the private entities that supplies charge more for such usages."
   ]
  },
  {
   "cell_type": "code",
   "execution_count": 8,
   "metadata": {
    "scrolled": true
   },
   "outputs": [
    {
     "data": {
      "image/png": "[encoded data removed]",
      "text/plain": [
       "<Figure size 432x288 with 1 Axes>"
      ]
     },
     "metadata": {
      "needs_background": "light"
     },
     "output_type": "display_data"
    }
   ],
   "source": [
    "ax1 = data.plot.scatter(x='Household connected to the national grid?',\n",
    "                      y='No of Disruptions per week',\n",
    "                      c='DarkBlue')"
   ]
  },
  {
   "cell_type": "markdown",
   "metadata": {},
   "source": [
    "The above chart shows that there is atleast 3 disrutption per week in households that are not connected to the grid whereas households that are connected to the grid can have even 0 disruptions per week"
   ]
  },
  {
   "cell_type": "code",
   "execution_count": 12,
   "metadata": {},
   "outputs": [
    {
     "data": {
      "text/plain": [
       "<matplotlib.axes._subplots.AxesSubplot at 0x1cff7f60888>"
      ]
     },
     "execution_count": 12,
     "metadata": {},
     "output_type": "execute_result"
    },
    {
     "data": {
      "image/png": "[encoded data removed]",
      "text/plain": [
       "<Figure size 432x288 with 1 Axes>"
      ]
     },
     "metadata": {
      "needs_background": "light"
     },
     "output_type": "display_data"
    }
   ],
   "source": [
    "data.plot.hist(x='Household connected to the national grid?',\n",
    "                      y='No of Disruptions per week',\n",
    "                      bins=20)"
   ]
  },
  {
   "cell_type": "markdown",
   "metadata": {},
   "source": [
    "In the graph, as we move towards the right, frequency of households increase and maximum households has a disruption between15 and 25. The no of households with hightest no of disruptions per week fals in the range 4 to 5( implies the no of such households are less as they are in the left of the graph)"
   ]
  },
  {
   "cell_type": "code",
   "execution_count": 15,
   "metadata": {},
   "outputs": [
    {
     "data": {
      "text/plain": [
       "<matplotlib.axes._subplots.AxesSubplot at 0x1cff72fd2c8>"
      ]
     },
     "execution_count": 15,
     "metadata": {},
     "output_type": "execute_result"
    },
    {
     "data": {
      "image/png": "[encoded data removed]",
      "text/plain": [
       "<Figure size 432x288 with 1 Axes>"
      ]
     },
     "metadata": {
      "needs_background": "light"
     },
     "output_type": "display_data"
    }
   ],
   "source": [
    "data.plot.hist(x='Monthly Electyricity Bill(Dollars)',\n",
    "                      y='No of Disruptions per week',\n",
    "                      bins=50)"
   ]
  },
  {
   "cell_type": "markdown",
   "metadata": {},
   "source": [
    "Households that pay very less have least disruptions\n",
    "households that pay the hightest has disruption frequency between 10 and 15"
   ]
  },
  {
   "cell_type": "code",
   "execution_count": 19,
   "metadata": {},
   "outputs": [
    {
     "data": {
      "text/plain": [
       "<matplotlib.axes._subplots.AxesSubplot at 0x1cffabd3e08>"
      ]
     },
     "execution_count": 19,
     "metadata": {},
     "output_type": "execute_result"
    },
    {
     "data": {
      "image/png": "[encoded data removed]",
      "text/plain": [
       "<Figure size 432x288 with 1 Axes>"
      ]
     },
     "metadata": {
      "needs_background": "light"
     },
     "output_type": "display_data"
    }
   ],
   "source": [
    "data.plot.hist(x='No of Disruptions per week',\n",
    "                y='FINAL TIER',\n",
    "               bins=50)"
   ]
  },
  {
   "cell_type": "markdown",
   "metadata": {},
   "source": [
    "Tier 0  households haa 175 disruptions\n",
    "Tier 1 has approx 25 disruptions\n",
    "Tier 2 has 110 disruptions\n",
    "Tier 3 has approx 87 disruptions\n",
    "Tier 4 and Tier 5 has zero disruption\n"
   ]
  },
  {
   "cell_type": "code",
   "execution_count": 44,
   "metadata": {},
   "outputs": [
    {
     "data": {
      "text/plain": [
       "<matplotlib.axes._subplots.AxesSubplot at 0x1cffe21c488>"
      ]
     },
     "execution_count": 44,
     "metadata": {},
     "output_type": "execute_result"
    },
    {
     "data": {
      "image/png": "[encoded data removed]",
      "text/plain": [
       "<Figure size 432x288 with 1 Axes>"
      ]
     },
     "metadata": {
      "needs_background": "light"
     },
     "output_type": "display_data"
    }
   ],
   "source": [
    "data.boxplot(by ='FINAL TIER', column =['Hours of electricity availability (in 24 hours)'], grid = False)"
   ]
  },
  {
   "cell_type": "markdown",
   "metadata": {},
   "source": [
    "The Lower tiers have lower median and upper and lower values of electricity availability."
   ]
  },
  {
   "cell_type": "code",
   "execution_count": 46,
   "metadata": {},
   "outputs": [
    {
     "data": {
      "text/plain": [
       "<matplotlib.axes._subplots.AxesSubplot at 0x1cffe1f2c88>"
      ]
     },
     "execution_count": 46,
     "metadata": {},
     "output_type": "execute_result"
    },
    {
     "data": {
      "image/png": "[encoded data removed]",
      "text/plain": [
       "<Figure size 432x288 with 1 Axes>"
      ]
     },
     "metadata": {
      "needs_background": "light"
     },
     "output_type": "display_data"
    }
   ],
   "source": [
    "data.boxplot(by ='FINAL TIER', column =['No of Disruptions per week'], grid = False)"
   ]
  },
  {
   "cell_type": "markdown",
   "metadata": {},
   "source": [
    "TIER 0 and Tier 1 has the highest no of disruptons. Tier 2 has lower no of disruptions than tier 3 which is an anomoly and unexpected scenerio in reallife scenario. Tier 4 and Tier 5 has no disruptions"
   ]
  },
  {
   "cell_type": "code",
   "execution_count": 47,
   "metadata": {},
   "outputs": [
    {
     "data": {
      "text/plain": [
       "<matplotlib.axes._subplots.AxesSubplot at 0x1cffdd8b188>"
      ]
     },
     "execution_count": 47,
     "metadata": {},
     "output_type": "execute_result"
    },
    {
     "data": {
      "image/png": "[encoded data removed]",
      "text/plain": [
       "<Figure size 432x288 with 1 Axes>"
      ]
     },
     "metadata": {
      "needs_background": "light"
     },
     "output_type": "display_data"
    }
   ],
   "source": [
    "data.boxplot(by ='FINAL TIER', column =['Avg time of disruption( in minutes)'], grid = False)"
   ]
  },
  {
   "cell_type": "markdown",
   "metadata": {},
   "source": [
    "Lower tiers has higher minutes of services getting disrupted. As the tier value increases the median value of dirsruption decreases. Tier 5 has no disruptions"
   ]
  },
  {
   "cell_type": "markdown",
   "metadata": {},
   "source": [
    "Pearson Corelation"
   ]
  },
  {
   "cell_type": "code",
   "execution_count": 49,
   "metadata": {},
   "outputs": [],
   "source": [
    "corr = data.corr()"
   ]
  },
  {
   "cell_type": "code",
   "execution_count": 50,
   "metadata": {},
   "outputs": [
    {
     "data": {
      "text/plain": [
       "<matplotlib.axes._subplots.AxesSubplot at 0x1cffe6e1288>"
      ]
     },
     "execution_count": 50,
     "metadata": {},
     "output_type": "execute_result"
    },
    {
     "data": {
      "image/png": "[encoded data removed]",
      "text/plain": [
       "<Figure size 432x288 with 2 Axes>"
      ]
     },
     "metadata": {
      "needs_background": "light"
     },
     "output_type": "display_data"
    }
   ],
   "source": [
    "sns.heatmap(corr)"
   ]
  },
  {
   "cell_type": "code",
   "execution_count": 52,
   "metadata": {},
   "outputs": [],
   "source": [
    "corr_target = abs(corr[\"FINAL TIER\"])"
   ]
  },
  {
   "cell_type": "code",
   "execution_count": 53,
   "metadata": {
    "scrolled": false
   },
   "outputs": [
    {
     "data": {
      "text/plain": [
       "Tier wrt Capacity        0.586835\n",
       "Tier wrt Availability    0.619869\n",
       "FINAL TIER               1.000000\n",
       "Name: FINAL TIER, dtype: float64"
      ]
     },
     "execution_count": 53,
     "metadata": {},
     "output_type": "execute_result"
    }
   ],
   "source": [
    "relevant_features = corr_target[corr_target>0.5]\n",
    "relevant_features"
   ]
  },
  {
   "cell_type": "markdown",
   "metadata": {},
   "source": [
    "The feature selection with pearson correlation shows that the Capacity and Availability are the most critical parameters."
   ]
  },
  {
   "cell_type": "markdown",
   "metadata": {},
   "source": [
    "K- Means Featuring"
   ]
  },
  {
   "cell_type": "code",
   "execution_count": null,
   "metadata": {},
   "outputs": [],
   "source": []
  }
 ],
 "metadata": {
  "kernelspec": {
   "display_name": "Python 3",
   "language": "python",
   "name": "python3"
  },
  "language_info": {
   "codemirror_mode": {
    "name": "ipython",
    "version": 3
   },
   "file_extension": ".py",
   "mimetype": "text/x-python",
   "name": "python",
   "nbconvert_exporter": "python",
   "pygments_lexer": "ipython3",
   "version": "3.7.6"
  }
 },
 "nbformat": 4,
 "nbformat_minor": 4
}
